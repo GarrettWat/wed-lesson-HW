{
 "cells": [
  {
   "cell_type": "markdown",
   "metadata": {},
   "source": [
    "# Dictionaries, Sets, & Importing Modules"
   ]
  },
  {
   "cell_type": "markdown",
   "metadata": {},
   "source": [
    "f## Tasks Today:\n",
    "\n",
    "1) Dictionary <br>\n",
    " &nbsp;&nbsp;&nbsp;&nbsp; a) Declaring (key, value) <br>\n",
    " &nbsp;&nbsp;&nbsp;&nbsp; b) Accessing Values <br>\n",
    " &nbsp;&nbsp;&nbsp;&nbsp; ------ Exercise #1 - Print the eye color of each person in a double nested dict <br>\n",
    " &nbsp;&nbsp;&nbsp;&nbsp; c) Adding New Pairs <br>\n",
    " &nbsp;&nbsp;&nbsp;&nbsp; d) Modifying Values <br>\n",
    " &nbsp;&nbsp;&nbsp;&nbsp; e) Removing Key, Value Pairs <br>\n",
    " &nbsp;&nbsp;&nbsp;&nbsp; f) Looping a Dictionary <br>\n",
    " &nbsp;&nbsp;&nbsp;&nbsp; g) Looping Only Keys <br>\n",
    " &nbsp;&nbsp;&nbsp;&nbsp; h) Looping Only Values <br>\n",
    " &nbsp;&nbsp;&nbsp;&nbsp; ------ Exercise #2 - Create a Function that Prints All Key Value Pairs within a print .format()  <br>\n",
    " &nbsp;&nbsp;&nbsp;&nbsp; i) sorted() <br>\n",
    " &nbsp;&nbsp;&nbsp;&nbsp; j) Lists with Dictionaries <br>\n",
    " &nbsp;&nbsp;&nbsp;&nbsp; k) Dictionaries with Lists <br>\n",
    " &nbsp;&nbsp;&nbsp;&nbsp; l) Dictionaries with Dictionaries <br>\n",
    " &nbsp;&nbsp;&nbsp;&nbsp; ------ Exercise #3 - Write a Function that asks someone's name and address, and then stores that into a dictionary, which prints all names and addresses after they're done putting information in...  <br>\n",
    "2) Dictionaries vs. Lists (over time)<br>\n",
    "3) Set <br>\n",
    " &nbsp;&nbsp;&nbsp;&nbsp; a) Declaring <br>\n",
    " &nbsp;&nbsp;&nbsp;&nbsp; b) .add() <br>\n",
    " &nbsp;&nbsp;&nbsp;&nbsp; c) .remove() <br>\n",
    " &nbsp;&nbsp;&nbsp;&nbsp; d) .union() <br>\n",
    " &nbsp;&nbsp;&nbsp;&nbsp; e) .intersection() <br>\n",
    " &nbsp;&nbsp;&nbsp;&nbsp; f) .difference() <br>\n",
    " &nbsp;&nbsp;&nbsp;&nbsp; g) Frozen Set <br>\n",
    "4) Modules <br>\n",
    " &nbsp;&nbsp;&nbsp;&nbsp; a) Importing Entire Modules <br>\n",
    " &nbsp;&nbsp;&nbsp;&nbsp; b) Importing Methods Only <br>\n",
    " &nbsp;&nbsp;&nbsp;&nbsp; c) Using the 'as' Keyword <br>\n",
    " &nbsp;&nbsp;&nbsp;&nbsp; d) Creating a Module <br>\n",
    "5) Exercises <br>\n",
    " &nbsp;&nbsp;&nbsp;&nbsp; a) Build a Shopping Cart <br>\n",
    " &nbsp;&nbsp;&nbsp;&nbsp; b) Create Your Own Module <br>"
   ]
  },
  {
   "cell_type": "markdown",
   "metadata": {},
   "source": [
    "## Dictionary <br>\n",
    "<p>A collection of data with 'key:value' pairs. Dictionaries are ordered as of Python 3.6</p>"
   ]
  },
  {
   "cell_type": "markdown",
   "metadata": {},
   "source": [
    "##### Declaring (key, value)"
   ]
  },
  {
   "cell_type": "code",
   "execution_count": 2,
   "metadata": {},
   "outputs": [],
   "source": [
    "# keys should be unique\n",
    "# can use numbers or strings as keys\n",
    "d_1={}\n",
    "\n",
    "d_2= dict([(\"item1\",\"something\"),(\"item2\",\"something else\")])\n",
    "\n",
    "\n",
    "d_3 = {\n",
    "    \"Tom\":\"123 Main St\",\n",
    "    \"John\":\"256 Main Street\",\n",
    "    0:\"This Is the value of the zero key\"\n",
    "}"
   ]
  },
  {
   "cell_type": "markdown",
   "metadata": {},
   "source": [
    "##### Accessing Values"
   ]
  },
  {
   "cell_type": "code",
   "execution_count": 3,
   "metadata": {},
   "outputs": [
    {
     "name": "stdout",
     "output_type": "stream",
     "text": [
      "This Is the value of the zero key\n"
     ]
    }
   ],
   "source": [
    "# dict[key]\n",
    "\n",
    "d_3[\"Tom\"]\n",
    "\n",
    "print(d_3[0])"
   ]
  },
  {
   "cell_type": "markdown",
   "metadata": {},
   "source": [
    "## In-Class Exercise #1 - Print a formatted statement from the dictionary below <br>\n",
    "<p>The output should be '2018 Chevrolet Silverado'</p>"
   ]
  },
  {
   "cell_type": "code",
   "execution_count": 4,
   "metadata": {},
   "outputs": [
    {
     "name": "stdout",
     "output_type": "stream",
     "text": [
      "2018 Chevrolet Silverado\n"
     ]
    }
   ],
   "source": [
    "# use the dict below\n",
    "truck = {\n",
    "    \"year\": 2018,\n",
    "    'make': 'Chevrolet',\n",
    "    'model': 'Silverado'\n",
    "}\n",
    "\n",
    "print(truck[\"year\"],truck[\"make\"],truck[\"model\"])"
   ]
  },
  {
   "cell_type": "markdown",
   "metadata": {},
   "source": [
    "##### Adding New Pairs"
   ]
  },
  {
   "cell_type": "code",
   "execution_count": 5,
   "metadata": {},
   "outputs": [],
   "source": [
    "# dict[key] = value\n"
   ]
  },
  {
   "cell_type": "markdown",
   "metadata": {},
   "source": [
    "##### Modifying Values"
   ]
  },
  {
   "cell_type": "code",
   "execution_count": 6,
   "metadata": {},
   "outputs": [
    {
     "ename": "KeyError",
     "evalue": "'Spike'",
     "output_type": "error",
     "traceback": [
      "\u001b[1;31m---------------------------------------------------------------------------\u001b[0m",
      "\u001b[1;31mKeyError\u001b[0m                                  Traceback (most recent call last)",
      "\u001b[1;32mc:\\Users\\garre\\Documents\\coduing_temple_rangers_92\\week_2\\d\\Wednesday_Lesson_Inclass-Updated-Lecture_Rangers87.ipynb Cell 13'\u001b[0m in \u001b[0;36m<cell line: 2>\u001b[1;34m()\u001b[0m\n\u001b[0;32m      <a href='vscode-notebook-cell:/c%3A/Users/garre/Documents/coduing_temple_rangers_92/week_2/d/Wednesday_Lesson_Inclass-Updated-Lecture_Rangers87.ipynb#ch0000012?line=0'>1</a>\u001b[0m \u001b[39m# dict[key] = value\u001b[39;00m\n\u001b[1;32m----> <a href='vscode-notebook-cell:/c%3A/Users/garre/Documents/coduing_temple_rangers_92/week_2/d/Wednesday_Lesson_Inclass-Updated-Lecture_Rangers87.ipynb#ch0000012?line=1'>2</a>\u001b[0m placeholder \u001b[39m=\u001b[39m d_3[\u001b[39m\"\u001b[39;49m\u001b[39mSpike\u001b[39;49m\u001b[39m\"\u001b[39;49m]\n\u001b[0;32m      <a href='vscode-notebook-cell:/c%3A/Users/garre/Documents/coduing_temple_rangers_92/week_2/d/Wednesday_Lesson_Inclass-Updated-Lecture_Rangers87.ipynb#ch0000012?line=2'>3</a>\u001b[0m d_3[\u001b[39m\"\u001b[39m\u001b[39mSpike\u001b[39m\u001b[39m\"\u001b[39m] \u001b[39m=\u001b[39m placeholder \u001b[39m+\u001b[39m\u001b[39m\"\u001b[39m\u001b[39m Chicago, IL\u001b[39m\u001b[39m\"\u001b[39m\n\u001b[0;32m      <a href='vscode-notebook-cell:/c%3A/Users/garre/Documents/coduing_temple_rangers_92/week_2/d/Wednesday_Lesson_Inclass-Updated-Lecture_Rangers87.ipynb#ch0000012?line=3'>4</a>\u001b[0m d_3\n",
      "\u001b[1;31mKeyError\u001b[0m: 'Spike'"
     ]
    }
   ],
   "source": [
    "# dict[key] = value\n",
    "placeholder = d_3[\"Spike\"]\n",
    "d_3[\"Spike\"] = placeholder +\" Chicago, IL\"\n",
    "d_3\n"
   ]
  },
  {
   "cell_type": "markdown",
   "metadata": {},
   "source": [
    "##### Removing Key, Value Pairs"
   ]
  },
  {
   "cell_type": "code",
   "execution_count": null,
   "metadata": {},
   "outputs": [
    {
     "data": {
      "text/plain": [
       "{'Tom': '123 Main St',\n",
       " 'John': '256 Main Street',\n",
       " 'Spike': '257 Main StreetChicago, IL Chicago, IL'}"
      ]
     },
     "execution_count": 18,
     "metadata": {},
     "output_type": "execute_result"
    }
   ],
   "source": [
    "# del dict[key]\n",
    "del d_3[0]\n",
    "\n",
    "d_3"
   ]
  },
  {
   "cell_type": "markdown",
   "metadata": {},
   "source": [
    "##### Looping a Dictionary"
   ]
  },
  {
   "cell_type": "code",
   "execution_count": null,
   "metadata": {},
   "outputs": [
    {
     "data": {
      "text/plain": [
       "['__class__',\n",
       " '__class_getitem__',\n",
       " '__contains__',\n",
       " '__delattr__',\n",
       " '__delitem__',\n",
       " '__dir__',\n",
       " '__doc__',\n",
       " '__eq__',\n",
       " '__format__',\n",
       " '__ge__',\n",
       " '__getattribute__',\n",
       " '__getitem__',\n",
       " '__gt__',\n",
       " '__hash__',\n",
       " '__init__',\n",
       " '__init_subclass__',\n",
       " '__ior__',\n",
       " '__iter__',\n",
       " '__le__',\n",
       " '__len__',\n",
       " '__lt__',\n",
       " '__ne__',\n",
       " '__new__',\n",
       " '__or__',\n",
       " '__reduce__',\n",
       " '__reduce_ex__',\n",
       " '__repr__',\n",
       " '__reversed__',\n",
       " '__ror__',\n",
       " '__setattr__',\n",
       " '__setitem__',\n",
       " '__sizeof__',\n",
       " '__str__',\n",
       " '__subclasshook__',\n",
       " 'clear',\n",
       " 'copy',\n",
       " 'fromkeys',\n",
       " 'get',\n",
       " 'items',\n",
       " 'keys',\n",
       " 'pop',\n",
       " 'popitem',\n",
       " 'setdefault',\n",
       " 'update',\n",
       " 'values']"
      ]
     },
     "execution_count": 19,
     "metadata": {},
     "output_type": "execute_result"
    }
   ],
   "source": [
    "dir(d_3)"
   ]
  },
  {
   "cell_type": "code",
   "execution_count": null,
   "metadata": {},
   "outputs": [
    {
     "name": "stdout",
     "output_type": "stream",
     "text": [
      "Name: Tom  |  Address: 123 Main St\n",
      "Name: John  |  Address: 256 Main Street\n",
      "Name: Spike  |  Address: 257 Main StreetChicago, IL Chicago, IL\n"
     ]
    }
   ],
   "source": [
    "# .items()\n",
    "# a, b, c = 1, 2, 3\n",
    "\n",
    "for name,address in d_3.items():\n",
    "    print(f\"Name: {name}  |  Address: {address}\")"
   ]
  },
  {
   "cell_type": "markdown",
   "metadata": {},
   "source": [
    "##### Looping Only Keys"
   ]
  },
  {
   "cell_type": "code",
   "execution_count": null,
   "metadata": {},
   "outputs": [
    {
     "name": "stdout",
     "output_type": "stream",
     "text": [
      "Tom\n",
      "John\n",
      "Spike\n"
     ]
    }
   ],
   "source": [
    "# .keys()\n",
    "for name in d_3.keys():\n",
    "    print(name)"
   ]
  },
  {
   "cell_type": "markdown",
   "metadata": {},
   "source": [
    "##### Looping Only Values"
   ]
  },
  {
   "cell_type": "code",
   "execution_count": null,
   "metadata": {},
   "outputs": [
    {
     "name": "stdout",
     "output_type": "stream",
     "text": [
      "['123 Main St', '256 Main Street', '257 Main StreetChicago, IL Chicago, IL']\n"
     ]
    }
   ],
   "source": [
    "value_list = [val for val in d_3.values()]\n",
    "print(value_list)"
   ]
  },
  {
   "cell_type": "code",
   "execution_count": null,
   "metadata": {
    "scrolled": false
   },
   "outputs": [],
   "source": []
  },
  {
   "cell_type": "code",
   "execution_count": null,
   "metadata": {
    "scrolled": true
   },
   "outputs": [],
   "source": [
    "# .values()\n"
   ]
  },
  {
   "cell_type": "markdown",
   "metadata": {},
   "source": [
    "## In-Class Exercise #2 - Create a Function that Prints All Key Value Pairs within a print .format() <br>\n",
    "<p><b>Output should be:</b><br>\n",
    "Max has blue eyes<br>\n",
    "Lilly has brown eyes<br>\n",
    "Barney has blue eyes<br>\n",
    "etc.\n",
    "</p>"
   ]
  },
  {
   "cell_type": "code",
   "execution_count": null,
   "metadata": {},
   "outputs": [
    {
     "name": "stdout",
     "output_type": "stream",
     "text": [
      "Timmy has Brown eyes\n",
      "Wanda has Purple eyes\n",
      "Vicky has Green eyes\n",
      "Cosmo has Green eyes\n",
      "Jorgen Von Strangle has Green eyes\n",
      "Crocker has Blue eyes\n",
      "Juandissimo Magnifico has Purple eyes\n",
      "Doug Dimmadome has BLue eyes\n",
      "Poof has Purple eyes\n"
     ]
    }
   ],
   "source": [
    "# use the dict below\n",
    "people = {\n",
    "    \"Timmy\": \"Blue\",\n",
    "    \"Wanda\": \"Purple\",\n",
    "    \"Vicky\": \"Green\",\n",
    "    \"Cosmo\": \"Green\",\n",
    "    \"Jorgen Von Strangle\" : \"Green\",\n",
    "    \"Crocker\":\"Blue\",\n",
    "    \"Juandissimo Magnifico\":\"Purple\",\n",
    "    \"Doug Dimmadome\":\"Blue\",\n",
    "    \"Poof\":\"Purple\"\n",
    "    \n",
    "    \n",
    "}\n",
    "for names,eyes in people.items():\n",
    "    print(f\"{names} has {eyes} eyes\")"
   ]
  },
  {
   "cell_type": "markdown",
   "metadata": {},
   "source": [
    "##### sorted()"
   ]
  },
  {
   "cell_type": "code",
   "execution_count": null,
   "metadata": {},
   "outputs": [
    {
     "name": "stdout",
     "output_type": "stream",
     "text": [
      "['Cosmo', 'Crocker', 'Doug Dimmadome', 'Jorgen Von Strangle', 'Juandissimo Magnifico', 'Poof', 'Timmy', 'Vicky', 'Wanda']\n",
      "['BLue', 'Blue', 'Brown', 'Green', 'Green', 'Green', 'Purple', 'Purple', 'Purple']\n",
      "[('Cosmo', 'Green'), ('Crocker', 'Blue'), ('Doug Dimmadome', 'BLue'), ('Jorgen Von Strangle', 'Green'), ('Juandissimo Magnifico', 'Purple'), ('Poof', 'Purple'), ('Timmy', 'Brown'), ('Vicky', 'Green'), ('Wanda', 'Purple')]\n"
     ]
    }
   ],
   "source": [
    "# sorts variables in order\n",
    "# sorted(dict.values()) or dict.keys() or dict.items()\n",
    "print(sorted(people.keys()))\n",
    "print(sorted(people.values()))\n",
    "print(sorted(people.items()))\n"
   ]
  },
  {
   "cell_type": "markdown",
   "metadata": {},
   "source": [
    "##### List with Dictionaries"
   ]
  },
  {
   "cell_type": "code",
   "execution_count": null,
   "metadata": {},
   "outputs": [
    {
     "name": "stdout",
     "output_type": "stream",
     "text": [
      "Barb\n"
     ]
    }
   ],
   "source": [
    "names = [\"Dave\",\"Susan\",\"Linda\",{\"randomguy\":\"Tom\",\"random_girl\":\"Barb\"}]\n",
    "print(names[3][\"random_girl\"])"
   ]
  },
  {
   "cell_type": "markdown",
   "metadata": {},
   "source": [
    "##### Dictionaries with Lists"
   ]
  },
  {
   "cell_type": "code",
   "execution_count": null,
   "metadata": {},
   "outputs": [
    {
     "ename": "KeyError",
     "evalue": "'flashlight'",
     "output_type": "error",
     "traceback": [
      "\u001b[1;31m---------------------------------------------------------------------------\u001b[0m",
      "\u001b[1;31mKeyError\u001b[0m                                  Traceback (most recent call last)",
      "\u001b[1;32m~\\AppData\\Local\\Temp/ipykernel_29432/2433117187.py\u001b[0m in \u001b[0;36m<module>\u001b[1;34m\u001b[0m\n\u001b[0;32m      4\u001b[0m     \u001b[1;34m\"2\"\u001b[0m\u001b[1;33m:\u001b[0m \u001b[1;33m[\u001b[0m\u001b[1;34m\"flashlight\"\u001b[0m\u001b[1;33m]\u001b[0m\u001b[1;33m,\u001b[0m\u001b[1;33m\u001b[0m\u001b[1;33m\u001b[0m\u001b[0m\n\u001b[0;32m      5\u001b[0m }\n\u001b[1;32m----> 6\u001b[1;33m \u001b[1;32mfor\u001b[0m \u001b[0mdata\u001b[0m \u001b[1;32min\u001b[0m \u001b[0mrandom_data\u001b[0m\u001b[1;33m[\u001b[0m\u001b[0mdata\u001b[0m\u001b[1;33m]\u001b[0m\u001b[1;33m:\u001b[0m\u001b[1;33m\u001b[0m\u001b[1;33m\u001b[0m\u001b[0m\n\u001b[0m\u001b[0;32m      7\u001b[0m     \u001b[0mprint\u001b[0m\u001b[1;33m(\u001b[0m\u001b[0mdata\u001b[0m\u001b[1;33m)\u001b[0m\u001b[1;33m\u001b[0m\u001b[1;33m\u001b[0m\u001b[0m\n",
      "\u001b[1;31mKeyError\u001b[0m: 'flashlight'"
     ]
    }
   ],
   "source": [
    "# be careful when using numbers as keys in dictionaries, don't confuse them with indexes\n",
    "random_data ={\n",
    "    \"list_1\": [33,94,12],\n",
    "    \"2\": [\"flashlight\"],\n",
    "}\n",
    "for data in random_data[data]:\n",
    "    print(data)"
   ]
  },
  {
   "cell_type": "markdown",
   "metadata": {},
   "source": [
    "##### Dictionaries with Dictionaries"
   ]
  },
  {
   "cell_type": "code",
   "execution_count": null,
   "metadata": {},
   "outputs": [],
   "source": [
    "# to get values, must traverse through keys\n",
    "food_dict = {\n",
    "    \"Garrett\":{\n",
    "        \"Breakfast\":[\"Eggs\",\"Waffles\",\"Bacon\"],\n",
    "        \"Lunch\":[\"Instant Noodles\",\"Perogies\"]\n",
    "    }\n",
    "}\n"
   ]
  },
  {
   "cell_type": "markdown",
   "metadata": {},
   "source": [
    "##Exercise: Grab Everyones Favorite Food and Print them out on individual lines"
   ]
  },
  {
   "cell_type": "code",
   "execution_count": null,
   "metadata": {},
   "outputs": [
    {
     "name": "stdout",
     "output_type": "stream",
     "text": [
      "{'Latin': ['Tacos', 'Arepa', 'Empenada'], 'Noodles': ['Instant', 'Pho', 'Ramen', 'Maccaroni']}\n",
      "{'Mexican': ['Taco', 'Burrito', 'Empenada'], 'Japanese': ['Nigiri', 'Sashimi', 'Onigiri']}\n",
      "{'Latin': ['Tacos', 'Quesadilla', 'Burritos'], 'Noodles': ['Spaghetti', 'Pho', \"Mac'n Cheese\"]}\n",
      "{'Breakfast': ['Eggs', 'Waffles', 'Bacon'], 'Lunch': ['Instant Noodles', 'Perogies']}\n",
      "{'Latin': ['Tacos', 'Tortas', 'More Tacos', 'I just really love tacos'], 'Noodles': ['Ramen', 'anythign slurpable']}\n",
      "{'bbq': ['brisket', 'ribs', 'chicken'], 'mexican': ['street tacos', 'brirra', 'wet burrito']}\n",
      "{'japanese': ['sushi', 'fried rice', 'lo mein'], 'italian': ['Stromboli', 'ravioli', 'tortalini']}\n",
      "{'Asian Cuisines': ['General Tso', 'Pad Thai', 'Ramen'], 'Italian': ['Pene', 'Alfredo', 'Margharita pizza'], 'Spanish': ['Pernil', 'Tostones', 'Birria']}\n",
      "{'Spanish': [' Tacos', 'RicenBeans', 'Salchipapa'], 'Italian': ['pasta', 'lasagna', 'Alfredo']}\n",
      "{'Soul': ['Fried Steak', 'Collard Greens', 'Mac & Cheese'], 'Breakfast': ['Pancakes', 'Eggs', 'Bacon']}\n",
      "{'Seafood': ['Salmon', 'Lobster', 'Tuna'], 'Italian': ['Spaghetti', 'Ravioli', 'Lasagna']}\n",
      "{'Latin': ['Tacos', 'Arepa', 'Empenada'], 'Noodles': ['Instant', 'Pho', 'Ramen', 'Maccaroni']}\n",
      "{'Mexican': ['Taco', 'Burrito', 'Empenada'], 'Japanese': ['Nigiri', 'Sashimi', 'Onigiri']}\n",
      "{'Latin': ['Tacos', 'Quesadilla', 'Burritos'], 'Noodles': ['Spaghetti', 'Pho', \"Mac'n Cheese\"]}\n",
      "{'Breakfast': ['Eggs', 'Waffles', 'Bacon'], 'Lunch': ['Instant Noodles', 'Perogies']}\n",
      "{'Latin': ['Tacos', 'Tortas', 'More Tacos', 'I just really love tacos'], 'Noodles': ['Ramen', 'anythign slurpable']}\n",
      "{'bbq': ['brisket', 'ribs', 'chicken'], 'mexican': ['street tacos', 'brirra', 'wet burrito']}\n",
      "{'japanese': ['sushi', 'fried rice', 'lo mein'], 'italian': ['Stromboli', 'ravioli', 'tortalini']}\n",
      "{'Asian Cuisines': ['General Tso', 'Pad Thai', 'Ramen'], 'Italian': ['Pene', 'Alfredo', 'Margharita pizza'], 'Spanish': ['Pernil', 'Tostones', 'Birria']}\n",
      "{'Spanish': [' Tacos', 'RicenBeans', 'Salchipapa'], 'Italian': ['pasta', 'lasagna', 'Alfredo']}\n",
      "{'Soul': ['Fried Steak', 'Collard Greens', 'Mac & Cheese'], 'Breakfast': ['Pancakes', 'Eggs', 'Bacon']}\n",
      "{'Seafood': ['Salmon', 'Lobster', 'Tuna'], 'Italian': ['Spaghetti', 'Ravioli', 'Lasagna']}\n",
      "{'Latin': ['Tacos', 'Arepa', 'Empenada'], 'Noodles': ['Instant', 'Pho', 'Ramen', 'Maccaroni']}\n",
      "{'Mexican': ['Taco', 'Burrito', 'Empenada'], 'Japanese': ['Nigiri', 'Sashimi', 'Onigiri']}\n",
      "{'Latin': ['Tacos', 'Quesadilla', 'Burritos'], 'Noodles': ['Spaghetti', 'Pho', \"Mac'n Cheese\"]}\n",
      "{'Breakfast': ['Eggs', 'Waffles', 'Bacon'], 'Lunch': ['Instant Noodles', 'Perogies']}\n",
      "{'Latin': ['Tacos', 'Tortas', 'More Tacos', 'I just really love tacos'], 'Noodles': ['Ramen', 'anythign slurpable']}\n",
      "{'bbq': ['brisket', 'ribs', 'chicken'], 'mexican': ['street tacos', 'brirra', 'wet burrito']}\n",
      "{'japanese': ['sushi', 'fried rice', 'lo mein'], 'italian': ['Stromboli', 'ravioli', 'tortalini']}\n",
      "{'Asian Cuisines': ['General Tso', 'Pad Thai', 'Ramen'], 'Italian': ['Pene', 'Alfredo', 'Margharita pizza'], 'Spanish': ['Pernil', 'Tostones', 'Birria']}\n",
      "{'Spanish': [' Tacos', 'RicenBeans', 'Salchipapa'], 'Italian': ['pasta', 'lasagna', 'Alfredo']}\n",
      "{'Soul': ['Fried Steak', 'Collard Greens', 'Mac & Cheese'], 'Breakfast': ['Pancakes', 'Eggs', 'Bacon']}\n",
      "{'Seafood': ['Salmon', 'Lobster', 'Tuna'], 'Italian': ['Spaghetti', 'Ravioli', 'Lasagna']}\n",
      "{'Latin': ['Tacos', 'Arepa', 'Empenada'], 'Noodles': ['Instant', 'Pho', 'Ramen', 'Maccaroni']}\n",
      "{'Mexican': ['Taco', 'Burrito', 'Empenada'], 'Japanese': ['Nigiri', 'Sashimi', 'Onigiri']}\n",
      "{'Latin': ['Tacos', 'Quesadilla', 'Burritos'], 'Noodles': ['Spaghetti', 'Pho', \"Mac'n Cheese\"]}\n",
      "{'Breakfast': ['Eggs', 'Waffles', 'Bacon'], 'Lunch': ['Instant Noodles', 'Perogies']}\n",
      "{'Latin': ['Tacos', 'Tortas', 'More Tacos', 'I just really love tacos'], 'Noodles': ['Ramen', 'anythign slurpable']}\n",
      "{'bbq': ['brisket', 'ribs', 'chicken'], 'mexican': ['street tacos', 'brirra', 'wet burrito']}\n",
      "{'japanese': ['sushi', 'fried rice', 'lo mein'], 'italian': ['Stromboli', 'ravioli', 'tortalini']}\n",
      "{'Asian Cuisines': ['General Tso', 'Pad Thai', 'Ramen'], 'Italian': ['Pene', 'Alfredo', 'Margharita pizza'], 'Spanish': ['Pernil', 'Tostones', 'Birria']}\n",
      "{'Spanish': [' Tacos', 'RicenBeans', 'Salchipapa'], 'Italian': ['pasta', 'lasagna', 'Alfredo']}\n",
      "{'Soul': ['Fried Steak', 'Collard Greens', 'Mac & Cheese'], 'Breakfast': ['Pancakes', 'Eggs', 'Bacon']}\n",
      "{'Seafood': ['Salmon', 'Lobster', 'Tuna'], 'Italian': ['Spaghetti', 'Ravioli', 'Lasagna']}\n",
      "{'Latin': ['Tacos', 'Arepa', 'Empenada'], 'Noodles': ['Instant', 'Pho', 'Ramen', 'Maccaroni']}\n",
      "{'Mexican': ['Taco', 'Burrito', 'Empenada'], 'Japanese': ['Nigiri', 'Sashimi', 'Onigiri']}\n",
      "{'Latin': ['Tacos', 'Quesadilla', 'Burritos'], 'Noodles': ['Spaghetti', 'Pho', \"Mac'n Cheese\"]}\n",
      "{'Breakfast': ['Eggs', 'Waffles', 'Bacon'], 'Lunch': ['Instant Noodles', 'Perogies']}\n",
      "{'Latin': ['Tacos', 'Tortas', 'More Tacos', 'I just really love tacos'], 'Noodles': ['Ramen', 'anythign slurpable']}\n",
      "{'bbq': ['brisket', 'ribs', 'chicken'], 'mexican': ['street tacos', 'brirra', 'wet burrito']}\n",
      "{'japanese': ['sushi', 'fried rice', 'lo mein'], 'italian': ['Stromboli', 'ravioli', 'tortalini']}\n",
      "{'Asian Cuisines': ['General Tso', 'Pad Thai', 'Ramen'], 'Italian': ['Pene', 'Alfredo', 'Margharita pizza'], 'Spanish': ['Pernil', 'Tostones', 'Birria']}\n",
      "{'Spanish': [' Tacos', 'RicenBeans', 'Salchipapa'], 'Italian': ['pasta', 'lasagna', 'Alfredo']}\n",
      "{'Soul': ['Fried Steak', 'Collard Greens', 'Mac & Cheese'], 'Breakfast': ['Pancakes', 'Eggs', 'Bacon']}\n",
      "{'Seafood': ['Salmon', 'Lobster', 'Tuna'], 'Italian': ['Spaghetti', 'Ravioli', 'Lasagna']}\n",
      "{'Latin': ['Tacos', 'Arepa', 'Empenada'], 'Noodles': ['Instant', 'Pho', 'Ramen', 'Maccaroni']}\n",
      "{'Mexican': ['Taco', 'Burrito', 'Empenada'], 'Japanese': ['Nigiri', 'Sashimi', 'Onigiri']}\n",
      "{'Latin': ['Tacos', 'Quesadilla', 'Burritos'], 'Noodles': ['Spaghetti', 'Pho', \"Mac'n Cheese\"]}\n",
      "{'Breakfast': ['Eggs', 'Waffles', 'Bacon'], 'Lunch': ['Instant Noodles', 'Perogies']}\n",
      "{'Latin': ['Tacos', 'Tortas', 'More Tacos', 'I just really love tacos'], 'Noodles': ['Ramen', 'anythign slurpable']}\n",
      "{'bbq': ['brisket', 'ribs', 'chicken'], 'mexican': ['street tacos', 'brirra', 'wet burrito']}\n",
      "{'japanese': ['sushi', 'fried rice', 'lo mein'], 'italian': ['Stromboli', 'ravioli', 'tortalini']}\n",
      "{'Asian Cuisines': ['General Tso', 'Pad Thai', 'Ramen'], 'Italian': ['Pene', 'Alfredo', 'Margharita pizza'], 'Spanish': ['Pernil', 'Tostones', 'Birria']}\n",
      "{'Spanish': [' Tacos', 'RicenBeans', 'Salchipapa'], 'Italian': ['pasta', 'lasagna', 'Alfredo']}\n",
      "{'Soul': ['Fried Steak', 'Collard Greens', 'Mac & Cheese'], 'Breakfast': ['Pancakes', 'Eggs', 'Bacon']}\n",
      "{'Seafood': ['Salmon', 'Lobster', 'Tuna'], 'Italian': ['Spaghetti', 'Ravioli', 'Lasagna']}\n",
      "{'Latin': ['Tacos', 'Arepa', 'Empenada'], 'Noodles': ['Instant', 'Pho', 'Ramen', 'Maccaroni']}\n",
      "{'Mexican': ['Taco', 'Burrito', 'Empenada'], 'Japanese': ['Nigiri', 'Sashimi', 'Onigiri']}\n",
      "{'Latin': ['Tacos', 'Quesadilla', 'Burritos'], 'Noodles': ['Spaghetti', 'Pho', \"Mac'n Cheese\"]}\n",
      "{'Breakfast': ['Eggs', 'Waffles', 'Bacon'], 'Lunch': ['Instant Noodles', 'Perogies']}\n",
      "{'Latin': ['Tacos', 'Tortas', 'More Tacos', 'I just really love tacos'], 'Noodles': ['Ramen', 'anythign slurpable']}\n",
      "{'bbq': ['brisket', 'ribs', 'chicken'], 'mexican': ['street tacos', 'brirra', 'wet burrito']}\n",
      "{'japanese': ['sushi', 'fried rice', 'lo mein'], 'italian': ['Stromboli', 'ravioli', 'tortalini']}\n",
      "{'Asian Cuisines': ['General Tso', 'Pad Thai', 'Ramen'], 'Italian': ['Pene', 'Alfredo', 'Margharita pizza'], 'Spanish': ['Pernil', 'Tostones', 'Birria']}\n",
      "{'Spanish': [' Tacos', 'RicenBeans', 'Salchipapa'], 'Italian': ['pasta', 'lasagna', 'Alfredo']}\n",
      "{'Soul': ['Fried Steak', 'Collard Greens', 'Mac & Cheese'], 'Breakfast': ['Pancakes', 'Eggs', 'Bacon']}\n",
      "{'Seafood': ['Salmon', 'Lobster', 'Tuna'], 'Italian': ['Spaghetti', 'Ravioli', 'Lasagna']}\n",
      "{'Latin': ['Tacos', 'Arepa', 'Empenada'], 'Noodles': ['Instant', 'Pho', 'Ramen', 'Maccaroni']}\n",
      "{'Mexican': ['Taco', 'Burrito', 'Empenada'], 'Japanese': ['Nigiri', 'Sashimi', 'Onigiri']}\n",
      "{'Latin': ['Tacos', 'Quesadilla', 'Burritos'], 'Noodles': ['Spaghetti', 'Pho', \"Mac'n Cheese\"]}\n",
      "{'Breakfast': ['Eggs', 'Waffles', 'Bacon'], 'Lunch': ['Instant Noodles', 'Perogies']}\n",
      "{'Latin': ['Tacos', 'Tortas', 'More Tacos', 'I just really love tacos'], 'Noodles': ['Ramen', 'anythign slurpable']}\n",
      "{'bbq': ['brisket', 'ribs', 'chicken'], 'mexican': ['street tacos', 'brirra', 'wet burrito']}\n",
      "{'japanese': ['sushi', 'fried rice', 'lo mein'], 'italian': ['Stromboli', 'ravioli', 'tortalini']}\n",
      "{'Asian Cuisines': ['General Tso', 'Pad Thai', 'Ramen'], 'Italian': ['Pene', 'Alfredo', 'Margharita pizza'], 'Spanish': ['Pernil', 'Tostones', 'Birria']}\n",
      "{'Spanish': [' Tacos', 'RicenBeans', 'Salchipapa'], 'Italian': ['pasta', 'lasagna', 'Alfredo']}\n",
      "{'Soul': ['Fried Steak', 'Collard Greens', 'Mac & Cheese'], 'Breakfast': ['Pancakes', 'Eggs', 'Bacon']}\n",
      "{'Seafood': ['Salmon', 'Lobster', 'Tuna'], 'Italian': ['Spaghetti', 'Ravioli', 'Lasagna']}\n",
      "{'Latin': ['Tacos', 'Arepa', 'Empenada'], 'Noodles': ['Instant', 'Pho', 'Ramen', 'Maccaroni']}\n",
      "{'Mexican': ['Taco', 'Burrito', 'Empenada'], 'Japanese': ['Nigiri', 'Sashimi', 'Onigiri']}\n",
      "{'Latin': ['Tacos', 'Quesadilla', 'Burritos'], 'Noodles': ['Spaghetti', 'Pho', \"Mac'n Cheese\"]}\n",
      "{'Breakfast': ['Eggs', 'Waffles', 'Bacon'], 'Lunch': ['Instant Noodles', 'Perogies']}\n",
      "{'Latin': ['Tacos', 'Tortas', 'More Tacos', 'I just really love tacos'], 'Noodles': ['Ramen', 'anythign slurpable']}\n",
      "{'bbq': ['brisket', 'ribs', 'chicken'], 'mexican': ['street tacos', 'brirra', 'wet burrito']}\n",
      "{'japanese': ['sushi', 'fried rice', 'lo mein'], 'italian': ['Stromboli', 'ravioli', 'tortalini']}\n",
      "{'Asian Cuisines': ['General Tso', 'Pad Thai', 'Ramen'], 'Italian': ['Pene', 'Alfredo', 'Margharita pizza'], 'Spanish': ['Pernil', 'Tostones', 'Birria']}\n",
      "{'Spanish': [' Tacos', 'RicenBeans', 'Salchipapa'], 'Italian': ['pasta', 'lasagna', 'Alfredo']}\n",
      "{'Soul': ['Fried Steak', 'Collard Greens', 'Mac & Cheese'], 'Breakfast': ['Pancakes', 'Eggs', 'Bacon']}\n",
      "{'Seafood': ['Salmon', 'Lobster', 'Tuna'], 'Italian': ['Spaghetti', 'Ravioli', 'Lasagna']}\n",
      "{'Latin': ['Tacos', 'Arepa', 'Empenada'], 'Noodles': ['Instant', 'Pho', 'Ramen', 'Maccaroni']}\n",
      "{'Mexican': ['Taco', 'Burrito', 'Empenada'], 'Japanese': ['Nigiri', 'Sashimi', 'Onigiri']}\n",
      "{'Latin': ['Tacos', 'Quesadilla', 'Burritos'], 'Noodles': ['Spaghetti', 'Pho', \"Mac'n Cheese\"]}\n",
      "{'Breakfast': ['Eggs', 'Waffles', 'Bacon'], 'Lunch': ['Instant Noodles', 'Perogies']}\n",
      "{'Latin': ['Tacos', 'Tortas', 'More Tacos', 'I just really love tacos'], 'Noodles': ['Ramen', 'anythign slurpable']}\n",
      "{'bbq': ['brisket', 'ribs', 'chicken'], 'mexican': ['street tacos', 'brirra', 'wet burrito']}\n",
      "{'japanese': ['sushi', 'fried rice', 'lo mein'], 'italian': ['Stromboli', 'ravioli', 'tortalini']}\n",
      "{'Asian Cuisines': ['General Tso', 'Pad Thai', 'Ramen'], 'Italian': ['Pene', 'Alfredo', 'Margharita pizza'], 'Spanish': ['Pernil', 'Tostones', 'Birria']}\n",
      "{'Spanish': [' Tacos', 'RicenBeans', 'Salchipapa'], 'Italian': ['pasta', 'lasagna', 'Alfredo']}\n",
      "{'Soul': ['Fried Steak', 'Collard Greens', 'Mac & Cheese'], 'Breakfast': ['Pancakes', 'Eggs', 'Bacon']}\n",
      "{'Seafood': ['Salmon', 'Lobster', 'Tuna'], 'Italian': ['Spaghetti', 'Ravioli', 'Lasagna']}\n",
      "{'Latin': ['Tacos', 'Arepa', 'Empenada'], 'Noodles': ['Instant', 'Pho', 'Ramen', 'Maccaroni']}\n",
      "{'Mexican': ['Taco', 'Burrito', 'Empenada'], 'Japanese': ['Nigiri', 'Sashimi', 'Onigiri']}\n",
      "{'Latin': ['Tacos', 'Quesadilla', 'Burritos'], 'Noodles': ['Spaghetti', 'Pho', \"Mac'n Cheese\"]}\n",
      "{'Breakfast': ['Eggs', 'Waffles', 'Bacon'], 'Lunch': ['Instant Noodles', 'Perogies']}\n",
      "{'Latin': ['Tacos', 'Tortas', 'More Tacos', 'I just really love tacos'], 'Noodles': ['Ramen', 'anythign slurpable']}\n",
      "{'bbq': ['brisket', 'ribs', 'chicken'], 'mexican': ['street tacos', 'brirra', 'wet burrito']}\n",
      "{'japanese': ['sushi', 'fried rice', 'lo mein'], 'italian': ['Stromboli', 'ravioli', 'tortalini']}\n",
      "{'Asian Cuisines': ['General Tso', 'Pad Thai', 'Ramen'], 'Italian': ['Pene', 'Alfredo', 'Margharita pizza'], 'Spanish': ['Pernil', 'Tostones', 'Birria']}\n",
      "{'Spanish': [' Tacos', 'RicenBeans', 'Salchipapa'], 'Italian': ['pasta', 'lasagna', 'Alfredo']}\n",
      "{'Soul': ['Fried Steak', 'Collard Greens', 'Mac & Cheese'], 'Breakfast': ['Pancakes', 'Eggs', 'Bacon']}\n",
      "{'Seafood': ['Salmon', 'Lobster', 'Tuna'], 'Italian': ['Spaghetti', 'Ravioli', 'Lasagna']}\n"
     ]
    }
   ],
   "source": [
    "food_dict = {\n",
    "    \"Terrell\":{\n",
    "        \"Latin\": [\"Tacos\",\"Arepa\",'Empenada'],\n",
    "        \"Noodles\": [\"Instant\",\"Pho\",'Ramen','Maccaroni']\n",
    "    },\n",
    "    \"Danni\":{\n",
    "        \"Mexican\": [\"Taco\",\"Burrito\",\"Empenada\"],\n",
    "        \"Japanese\":[\"Nigiri\",\"Sashimi\",\"Onigiri\"],\n",
    "    },\n",
    "    \"Billy\": {\n",
    "        \"Latin\": [\"Tacos\", \"Quesadilla\", \"Burritos\"],\n",
    "        \"Noodles\": [\"Spaghetti\", \"Pho\", \"Mac'n Cheese\"]\n",
    "    },\n",
    "    \"Garrett\":{\n",
    "        \"Breakfast\":[\"Eggs\",\"Waffles\",\"Bacon\"],\n",
    "        \"Lunch\":[\"Instant Noodles\",\"Perogies\"],\n",
    "    },\n",
    "    \"Ryan\": {\n",
    "        \"Latin\": [\"Tacos\", \"Tortas\", \"More Tacos\", \"I just really love tacos\"],\n",
    "        \"Noodles\": [\"Ramen\", \"anythign slurpable\"]\n",
    "    },\n",
    "    \"marcus\": {\n",
    "        \"bbq\": [\"brisket\",\"ribs\",\"chicken\"],\n",
    "        \"mexican\": [\"street tacos\", \"brirra\", \"wet burrito\"],\n",
    "    },\n",
    "    'Connor':{\n",
    "        'japanese': ['sushi', 'fried rice', 'lo mein'],\n",
    "        'italian': ['Stromboli', 'ravioli', 'tortalini']\n",
    "    },\n",
    "    \"Jordy\": {\n",
    "        \"Asian Cuisines\": [\"General Tso\", \"Pad Thai\", \"Ramen\"],\n",
    "        \"Italian\": [\"Pene\", \"Alfredo\", \"Margharita pizza\"],\n",
    "        \"Spanish\": [\"Pernil\", \"Tostones\", \"Birria\"]\n",
    "    },\n",
    "    \"Joel\":{\n",
    "        \"Spanish\": [\" Tacos\",\"RicenBeans\",'Salchipapa'],\n",
    "        \"Italian\": [\"pasta\",\"lasagna\",\"Alfredo\"],\n",
    "    },\n",
    "    \"Sam\":{\n",
    "        \"Soul\": [\"Fried Steak\", \"Collard Greens\", \"Mac & Cheese\"],\n",
    "        \"Breakfast\": [\"Pancakes\", \"Eggs\", \"Bacon\"]\n",
    "    },\n",
    "    \"Devin\":{\n",
    "        \"Seafood\": [\"Salmon\",\"Lobster\",\"Tuna\"],\n",
    "        \"Italian\": [\"Spaghetti\", \"Ravioli\", \"Lasagna\"],\n",
    "    },\n",
    "}\n",
    "for names in food_dict:\n",
    "    for data in food_dict.values():\n",
    "        print(data)\n"
   ]
  },
  {
   "cell_type": "markdown",
   "metadata": {},
   "source": [
    "## Dictionaries vs. Lists (over time) Example of RUNTIME\n",
    "### When inputting values in a Dictionary vs List"
   ]
  },
  {
   "cell_type": "code",
   "execution_count": null,
   "metadata": {},
   "outputs": [],
   "source": [
    "import time\n",
    "\n",
    "#generate a dictionary\n",
    "\n",
    "d ={}\n",
    "\n",
    "for i in range(10000000):\n",
    "    d[i] = \"value\"+ str(i)\n",
    "    \n",
    "#generate a list\n",
    "\n",
    "big_list = [x for x in range(10000000)]\n"
   ]
  },
  {
   "cell_type": "code",
   "execution_count": null,
   "metadata": {},
   "outputs": [
    {
     "name": "stdout",
     "output_type": "stream",
     "text": [
      "value9999999\n",
      "Elapsed time for dictionary: 0.000499725341796875\n",
      "9999999\n",
      "Elapsed time for list: 0.6960976123809814\n"
     ]
    }
   ],
   "source": [
    "#Track time for the dictionary\n",
    "start_time = time.time()\n",
    "print(d[9999999])\n",
    "\n",
    "end_time = time.time()\n",
    "elapsed_time = end_time - start_time\n",
    "print(f\"Elapsed time for dictionary: {elapsed_time}\")\n",
    "\n",
    "for i in range(len(big_list)):\n",
    "    if i == 9999999:\n",
    "        print(i)\n",
    "        break\n",
    "\n",
    "end_time =time.time()\n",
    "elapsed_time = end_time - start_time\n",
    "print(f\"Elapsed time for list: {elapsed_time}\")"
   ]
  },
  {
   "cell_type": "markdown",
   "metadata": {},
   "source": [
    "## Exercise #3 - Write a Function that asks someone's name and address, and then stores that into a dictionary, and continues to do so until they choose to 'quit'. Once they quit, the program should print all names and addresses. <br>\n",
    "<p>\n",
    "<b>Proper steps:</b><br>\n",
    "step 1: write a function that takes in information and stores it in a dictionary<br>\n",
    "step 2: define an empty dictionary to work with<br>\n",
    "step 3: create our loop, which asks the user for information until they quit<br>\n",
    "step 4: ask for the information, and store it into variables<br>\n",
    "step 5: check if the user types quit<br>\n",
    "step 5a: print out all information<br>\n",
    "step 5b: break out of the loop<br>\n",
    "step 6: if they didn't quit, add the information to the dictionary<br>\n",
    "step 7: invoke the function by calling it\n",
    "</p>"
   ]
  },
  {
   "cell_type": "code",
   "execution_count": null,
   "metadata": {
    "scrolled": true
   },
   "outputs": [],
   "source": [
    "from IPython.display import clear_output\n",
    "\n",
    "# Step 1\n",
    "def storeInfo():\n",
    "    li = {\n",
    "    }\n",
    "    name = input(\"Whats Your Name ?(Enter Quit to exit the code)\")\n",
    "    address = input(\"Whats Your Address?(Enter Quit to exit the code)\")\n",
    "    while name != \"Quit\":\n",
    "        while address != \"Quit\":\n",
    "            li[name] = address\n",
    "            name = input(\"Whats Your Name?(Enter Quit to exit the code)\")\n",
    "            address = input(\"Whats Your Address?(Enter Quit to exit the code)\")\n",
    "    print(li)\n",
    "storeInfo()"
   ]
  },
  {
   "cell_type": "markdown",
   "metadata": {},
   "source": [
    "## Set <br>\n",
    "<p>A Set is an unordered collection data type that is iterable (loop), mutable, and has no duplicate elements.<br>Major advantage is that it is highly optimized in checking if something is in the set, as opposed to checking if something is in a list.</p>"
   ]
  },
  {
   "cell_type": "markdown",
   "metadata": {},
   "source": [
    "##### Declaring"
   ]
  },
  {
   "cell_type": "code",
   "execution_count": null,
   "metadata": {},
   "outputs": [],
   "source": [
    "# set() or {}\n",
    "# no order {3, 2, 1} outputs as {1, 2, 3}\n",
    "nums = {3,8,9,3,4}\n",
    "print(nums)"
   ]
  },
  {
   "cell_type": "markdown",
   "metadata": {},
   "source": [
    "##### .add()"
   ]
  },
  {
   "cell_type": "code",
   "execution_count": null,
   "metadata": {},
   "outputs": [],
   "source": [
    "# set.add()\n",
    "nums.add(88)\n",
    "print(nums)"
   ]
  },
  {
   "cell_type": "markdown",
   "metadata": {},
   "source": [
    "##### .remove()"
   ]
  },
  {
   "cell_type": "code",
   "execution_count": null,
   "metadata": {},
   "outputs": [],
   "source": [
    "# removes by value\n",
    "# set.remove()\n",
    "# nums.remove(56)\n",
    "nums.remove(88)\n",
    "print(nums)"
   ]
  },
  {
   "cell_type": "markdown",
   "metadata": {},
   "source": [
    "##### .union() "
   ]
  },
  {
   "cell_type": "code",
   "execution_count": null,
   "metadata": {},
   "outputs": [],
   "source": [
    "# Returns a union of two sets, can also use '|' or set.union(set)\n",
    "# joins all numbers, gets rid of duplicates\n",
    "s1={1,2,3,4}\n",
    "s2={3,4,5,6}\n",
    "\n",
    "s3 = s1.union(s2)\n",
    "\n",
    "s4 = s1 | s2\n",
    "\n",
    "print(s3)\n",
    "print(s4)\n"
   ]
  },
  {
   "cell_type": "markdown",
   "metadata": {},
   "source": [
    "##### .intersection()"
   ]
  },
  {
   "cell_type": "code",
   "execution_count": null,
   "metadata": {},
   "outputs": [],
   "source": [
    "# Returns an intersection of two sets, can also use '&'\n",
    "# only takes similar elements from both sets\n",
    "s5 = s1.intersection(s2)\n",
    "\n",
    "s6 = s1&s2"
   ]
  },
  {
   "cell_type": "markdown",
   "metadata": {},
   "source": [
    "##### .difference()"
   ]
  },
  {
   "cell_type": "code",
   "execution_count": null,
   "metadata": {},
   "outputs": [],
   "source": [
    "# Returns a set containing all the elements of invoking set that are not in the second set, can also use '-'\n",
    "# only takes values from the first set that are not in the second set\n",
    "# order matters\n",
    "\n",
    "s7 = s1 - s2\n",
    "\n",
    "s8= s2.difference(s1)\n",
    "\n",
    "print(s7)\n",
    "print(s8)\n"
   ]
  },
  {
   "cell_type": "markdown",
   "metadata": {},
   "source": [
    "##### .clear()"
   ]
  },
  {
   "cell_type": "code",
   "execution_count": null,
   "metadata": {},
   "outputs": [],
   "source": [
    "# Empties the whole set\n",
    "# set.clear()\n"
   ]
  },
  {
   "cell_type": "code",
   "execution_count": null,
   "metadata": {},
   "outputs": [],
   "source": []
  },
  {
   "cell_type": "markdown",
   "metadata": {},
   "source": [
    "##### Frozenset <br>\n",
    "<p>Frozen sets are immutable objects that only support methods and operators that produce a result without affecting the frozen set or sets to which they are applied.</p><br><b>Unique & Immutable</b>"
   ]
  },
  {
   "cell_type": "code",
   "execution_count": null,
   "metadata": {},
   "outputs": [],
   "source": [
    "# frozenset([])\n",
    "icy_set = frozenset(s3)\n",
    "print(icy_set)\n",
    "\n",
    "icy_set.add(7)"
   ]
  },
  {
   "cell_type": "markdown",
   "metadata": {},
   "source": [
    "## Modules"
   ]
  },
  {
   "cell_type": "markdown",
   "metadata": {},
   "source": [
    "##### Importing Entire Modules"
   ]
  },
  {
   "cell_type": "code",
   "execution_count": null,
   "metadata": {},
   "outputs": [],
   "source": [
    "# import \n",
    "# or \n",
    "# from 'xxx' import *\n",
    "import math\n",
    "\n",
    "print(math.pi)\n",
    "print(math.ceil(math.pi))\n"
   ]
  },
  {
   "cell_type": "markdown",
   "metadata": {},
   "source": [
    "##### Importing Methods Only"
   ]
  },
  {
   "cell_type": "code",
   "execution_count": null,
   "metadata": {},
   "outputs": [],
   "source": [
    "# from 'xxx' import 'xxx'\n",
    "# from math import floor\n",
    "\n"
   ]
  },
  {
   "cell_type": "markdown",
   "metadata": {},
   "source": [
    "##### Using the 'as' Keyword"
   ]
  },
  {
   "cell_type": "code",
   "execution_count": null,
   "metadata": {},
   "outputs": [],
   "source": [
    "# from 'xxx' import 'xxx' as 'xxx' or import 'xxx' as 'xxx'\n",
    "# from math import floor as f\n",
    "\n"
   ]
  },
  {
   "cell_type": "markdown",
   "metadata": {},
   "source": [
    "##### Creating a Module"
   ]
  },
  {
   "cell_type": "code",
   "execution_count": null,
   "metadata": {},
   "outputs": [],
   "source": [
    "from module import printName as pn\n",
    "\n"
   ]
  },
  {
   "cell_type": "markdown",
   "metadata": {},
   "source": [
    "# Exercises"
   ]
  },
  {
   "cell_type": "markdown",
   "metadata": {},
   "source": [
    "### 1) Build a Shopping Cart <br>\n",
    "<p><b>You can use either lists or dictionaries. The program should have the following capabilities:</b><br><br>\n",
    "1) Takes in input <br>\n",
    "2) Stores user input into a dictionary or list <br>\n",
    "3) The User can add or delete items <br>\n",
    "4) The User can see current shopping list <br>\n",
    "5) The program Loops until user 'quits' <br>\n",
    "6) Upon quiting the program, print out all items in the user's list <br>\n",
    "</p>"
   ]
  },
  {
   "cell_type": "code",
   "execution_count": 8,
   "metadata": {},
   "outputs": [],
   "source": [
    "from IPython.display import clear_output\n",
    "a={\n",
    "\n",
    "}\n",
    "# Ask the user four bits of input: Do you want to : Show/Add/Delete or Quit?\n",
    "while True:\n",
    "    inp = input(\"Whould you like to Show/Add/Delete/Quit?\")\n",
    "    if inp == \"Show\":\n",
    "        print(a)\n",
    "    elif inp == \"Add\":\n",
    "        a[\"item\"] = inp\n",
    "    elif inp == \"Delete\":\n",
    "        del a[inp]\n",
    "    elif inp == \"Quit\":\n",
    "        False\n",
    "\n"
   ]
  },
  {
   "cell_type": "markdown",
   "metadata": {},
   "source": [
    "### 2) Create a Module in VS Code and Import It into jupyter notebook <br>\n",
    "<p><b>Module should have the following capabilities:</b><br><br>\n",
    "1) Has a function to calculate the square footage of a house <br>\n",
    "    <b>Reminder of Formula: Length X Width == Area<br>\n",
    "        <hr>\n",
    "2) Has a function to calculate the circumference of a circle <br><br>\n",
    "<b>Program in Jupyter Notebook should take in user input and use imported functions to calculate a circle's circumference or a houses square footage</b>\n",
    "</p>"
   ]
  },
  {
   "cell_type": "code",
   "execution_count": null,
   "metadata": {},
   "outputs": [],
   "source": []
  }
 ],
 "metadata": {
  "interpreter": {
   "hash": "9efd58fe07ff8f9a47dbfe805f3bde0a699a6655f46778ddc602964f06ffcc6f"
  },
  "kernelspec": {
   "display_name": "Python 3.9.12 64-bit",
   "language": "python",
   "name": "python3"
  },
  "language_info": {
   "codemirror_mode": {
    "name": "ipython",
    "version": 3
   },
   "file_extension": ".py",
   "mimetype": "text/x-python",
   "name": "python",
   "nbconvert_exporter": "python",
   "pygments_lexer": "ipython3",
   "version": "3.9.12"
  }
 },
 "nbformat": 4,
 "nbformat_minor": 2
}
